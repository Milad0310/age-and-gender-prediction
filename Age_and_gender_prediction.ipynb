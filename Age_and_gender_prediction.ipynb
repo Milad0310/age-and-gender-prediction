{
  "nbformat": 4,
  "nbformat_minor": 0,
  "metadata": {
    "colab": {
      "provenance": []
    },
    "kernelspec": {
      "name": "python3",
      "display_name": "Python 3"
    },
    "language_info": {
      "name": "python"
    }
  },
  "cells": [
    {
      "cell_type": "code",
      "execution_count": null,
      "metadata": {
        "id": "GYV1nhn8ua-2"
      },
      "outputs": [],
      "source": [
        "#Import the relevant packages:\n",
        "import torch\n",
        "import numpy as np, cv2, pandas as pd, glob, time\n",
        "import matplotlib.pyplot as plt\n",
        "\n",
        "%matplotlib inline\n",
        "import torch.nn as nn\n",
        "from torch import optim\n",
        "\n",
        "import torch.nn.functional as F\n",
        "from torch.utils.data import Dataset, DataLoader\n",
        "import torchvision\n",
        "\n",
        "from torchvision import transforms, models, datasets\n",
        "device = 'cuda' if torch.cuda.is_available() else 'cpu'"
      ]
    }
  ]
}