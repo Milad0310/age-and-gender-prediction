{
 "cells": [
  {
   "cell_type": "code",
   "execution_count": null,
   "id": "GKgTM9uWZ9sX",
   "metadata": {
    "id": "GKgTM9uWZ9sX"
   },
   "outputs": [],
   "source": [
    "#import library\n",
    "import cv2\n",
    "from torchvision import transforms, models, datasets\n",
    "import torch.nn as nn\n",
    "import torch\n",
    "import numpy as np\n",
    "import matplotlib.pyplot as plt\n",
    "#build cascade obj\n",
    "face_cascade = cv2.CascadeClassifier(\"haarcascade_frontalface_alt.xml\")\n",
    "\n",
    "device = 'cuda' if torch.cuda.is_available() else 'cpu'"
   ]
  },
  {
   "cell_type": "code",
   "execution_count": null,
   "id": "b874af3d",
   "metadata": {},
   "outputs": [],
   "source": [
    "normalize = transforms.Normalize(mean=[0.485, 0.456, 0.406], std=[0.229, 0.224, 0.225])"
   ]
  },
  {
   "cell_type": "code",
   "execution_count": null,
   "id": "oNvr48KaaYUc",
   "metadata": {
    "id": "oNvr48KaaYUc"
   },
   "outputs": [],
   "source": [
    "#define vgg16 model\n",
    "def get_model():\n",
    "    model = models.vgg19(pretrained = True)\n",
    "    # Freeze parameters so we don't backprop through them\n",
    "    for param in model.parameters():\n",
    "        param.requires_grad = False\n",
    "    model.avgpool = nn.Sequential(\n",
    "        nn.Conv2d(512,512, kernel_size=3),\n",
    "        nn.MaxPool2d(2),\n",
    "        nn.ReLU(),\n",
    "        nn.Flatten()\n",
    "    )\n",
    "    class ageGenderClassifier(nn.Module):\n",
    "        def __init__(self):\n",
    "            super(ageGenderClassifier, self).__init__()\n",
    "            self.intermediate = nn.Sequential(\n",
    "                nn.Linear(2048,512),\n",
    "                nn.ReLU(),\n",
    "                nn.Dropout(0.4),\n",
    "                nn.Linear(512,128),\n",
    "                nn.ReLU(),\n",
    "                nn.Dropout(0.4),\n",
    "                nn.Linear(128,64),\n",
    "                nn.ReLU(),\n",
    "            )\n",
    "            self.age_classifier = nn.Sequential(\n",
    "                nn.Linear(64, 1),\n",
    "                nn.Sigmoid()\n",
    "            )\n",
    "            self.gender_classifier = nn.Sequential(\n",
    "                nn.Linear(64, 1),\n",
    "                nn.Sigmoid()\n",
    "            )\n",
    "        def forward(self, x):\n",
    "            x = self.intermediate(x)\n",
    "            age = self.age_classifier(x)\n",
    "            gender = self.gender_classifier(x)\n",
    "            return gender, age\n",
    "\n",
    "    model.classifier = ageGenderClassifier()\n",
    "\n",
    "    return model.to(device)\n"
   ]
  },
  {
   "cell_type": "code",
   "execution_count": null,
   "id": "wBEkogFggzF3",
   "metadata": {
    "id": "wBEkogFggzF3"
   },
   "outputs": [],
   "source": [
    "def model_prediction(pre_img, model):\n",
    "\n",
    "    face = pre_img.to(device).float()\n",
    "    gender, age = model(face)\n",
    "\n",
    "    pred_gender = gender.to('cpu').detach().numpy()\n",
    "    pred_age = age.to('cpu').detach().numpy()\n",
    "\n",
    "    return pred_gender, pred_age"
   ]
  },
  {
   "cell_type": "code",
   "execution_count": null,
   "id": "dWo2G98sZ9vZ",
   "metadata": {
    "id": "dWo2G98sZ9vZ"
   },
   "outputs": [],
   "source": [
    "\n",
    "#define detection function\n",
    "def detection(gray):\n",
    "\n",
    "    face = face_cascade.detectMultiScale(gray, 1.3, 5)   \n",
    "\n",
    "    return face\n"
   ]
  },
  {
   "cell_type": "code",
   "execution_count": null,
   "id": "UPFEmV9cfpoR",
   "metadata": {
    "id": "UPFEmV9cfpoR"
   },
   "outputs": [],
   "source": [
    "#preprocess function\n",
    "def preprocess_image(face, frame):\n",
    "    for x, y, w, h in face:\n",
    "        frame = np.array(frame)\n",
    "        crop_frame = frame[y:y+h, x:x+w]\n",
    "\n",
    "        crop_frame = cv2.resize(crop_frame, (224, 224))\n",
    "        crop_frame = torch.tensor(crop_frame).permute(2,0,1)\n",
    "        crop_frame = normalize(crop_frame/255.)\n",
    "\n",
    "        return crop_frame[None]"
   ]
  },
  {
   "cell_type": "code",
   "execution_count": null,
   "id": "FoHIh7R-eGlo",
   "metadata": {
    "id": "FoHIh7R-eGlo",
    "scrolled": true
   },
   "outputs": [],
   "source": [
    "model= get_model()\n",
    "model.load_state_dict(torch.load(\"vgg19\", map_location=torch.device('cpu')))"
   ]
  },
  {
   "cell_type": "code",
   "execution_count": null,
   "id": "6uVwxOSmZ9yr",
   "metadata": {
    "id": "6uVwxOSmZ9yr"
   },
   "outputs": [],
   "source": [
    "#Capture video from webcam\n",
    "\n",
    "cap_vid = cv2.VideoCapture(0)\n",
    "\n",
    "while True:\n",
    "\n",
    "    _, frame = cap_vid.read()\n",
    "    gray = cv2.cvtColor(frame, cv2.COLOR_BGR2GRAY)\n",
    "\n",
    "    detect_face = detection(gray)\n",
    "\n",
    "    pre_img = preprocess_image(detect_face, frame)\n",
    "    imgee = pre_img\n",
    "    gender, age = model_prediction(pre_img, model)\n",
    "    \n",
    "    gender = np.where(gender[0][0]<0.5,'Male','Female')\n",
    "    age = int(age[0][0]*116)\n",
    "    for x, y, w, h in detect_face:\n",
    "        cv2.rectangle(frame, (x,y), (x+w, y+h), (100, 50, 200), 3)\n",
    "\n",
    "        cv2.putText(frame, f'gender:{gender}, age: {age}', (x, w+h), cv2.FONT_HERSHEY_COMPLEX_SMALL, 1, (255, 255, 255), 1, cv2.LINE_AA)\n",
    "\n",
    "    cv2.imshow('detected_face',frame)\n",
    "    if cv2.waitKey(0) & 0xff == ord(\"q\"):\n",
    "        break"
   ]
  },
  {
   "cell_type": "code",
   "execution_count": 18,
   "id": "_3BgGCwAZ906",
   "metadata": {
    "id": "_3BgGCwAZ906"
   },
   "outputs": [],
   "source": [
    "cap_vid.release()\n",
    "cv2.destroyAllWindows()"
   ]
  },
  {
   "cell_type": "code",
   "execution_count": null,
   "id": "4c9ef865",
   "metadata": {},
   "outputs": [],
   "source": []
  }
 ],
 "metadata": {
  "accelerator": "GPU",
  "colab": {
   "gpuType": "T4",
   "provenance": [],
   "toc_visible": true
  },
  "kernelspec": {
   "display_name": "Python 3 (ipykernel)",
   "language": "python",
   "name": "python3"
  },
  "language_info": {
   "codemirror_mode": {
    "name": "ipython",
    "version": 3
   },
   "file_extension": ".py",
   "mimetype": "text/x-python",
   "name": "python",
   "nbconvert_exporter": "python",
   "pygments_lexer": "ipython3",
   "version": "3.9.13"
  }
 },
 "nbformat": 4,
 "nbformat_minor": 5
}
