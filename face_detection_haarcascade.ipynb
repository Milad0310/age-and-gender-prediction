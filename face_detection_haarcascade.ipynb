{
 "cells": [
  {
   "cell_type": "code",
   "execution_count": 2,
   "id": "4be86fcb",
   "metadata": {},
   "outputs": [],
   "source": [
    "#import library\n",
    "import cv2\n",
    "\n",
    "\n",
    "# In[ ]:\n",
    "\n",
    "\n",
    "#build cascade obj \n",
    "face_cascade = cv2.CascadeClassifier(\"haarcascade_frontalface_alt.xml\")\n",
    "#eye_cascade = cv2.CascadeClassifier(\"haarcascade_eye.xml\")\n",
    "\n",
    "\n",
    "# In[ ]:\n",
    "\n",
    "\n",
    "#define detection function\n",
    "\n",
    "def detection(gray, frame):\n",
    "    \n",
    "    face = face_cascade.detectMultiScale(gray, 1.3, 5)\n",
    "    for x, y, w, h in face:\n",
    "        cv2.rectangle(frame, (x,y), (x+w, y+h), (100, 50, 200), 3)\n",
    "    \n",
    "    return frame\n",
    "\n",
    "\n",
    "# In[ ]:\n",
    "\n",
    "\n",
    "#Capture video from webcam\n",
    "\n",
    "cap_vid = cv2.VideoCapture(0)\n",
    "\n",
    "while True:\n",
    "    \n",
    "    _, frame = cap_vid.read() \n",
    "    \n",
    "    gray = cv2.cvtColor(frame, cv2.COLOR_BGR2GRAY)\n",
    "    \n",
    "    detected_fram = detection(gray, frame)\n",
    "    \n",
    "    cv2.imshow('detected_face',detected_fram)\n",
    "    \n",
    "    if cv2.waitKey(0) & 0xff == ord(\"q\"):\n",
    "        break\n",
    "        \n",
    "cap_vid.release()\n",
    "cv2.destroyAllWindows()       "
   ]
  },
  {
   "cell_type": "code",
   "execution_count": null,
   "id": "24f436a2",
   "metadata": {},
   "outputs": [],
   "source": []
  }
 ],
 "metadata": {
  "kernelspec": {
   "display_name": "Python 3 (ipykernel)",
   "language": "python",
   "name": "python3"
  },
  "language_info": {
   "codemirror_mode": {
    "name": "ipython",
    "version": 3
   },
   "file_extension": ".py",
   "mimetype": "text/x-python",
   "name": "python",
   "nbconvert_exporter": "python",
   "pygments_lexer": "ipython3",
   "version": "3.9.13"
  }
 },
 "nbformat": 4,
 "nbformat_minor": 5
}
