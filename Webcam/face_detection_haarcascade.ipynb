{
  "cells": [
    {
      "cell_type": "code",
      "execution_count": null,
      "id": "GKgTM9uWZ9sX",
      "metadata": {
        "id": "GKgTM9uWZ9sX"
      },
      "outputs": [],
      "source": [
        "#import library\n",
        "import cv2\n",
        "from torchvision import transforms, models, datasets\n",
        "import torch.nn as nn\n",
        "import torch\n",
        "import numpy as np\n",
        "import matplotlib.pyplot as plt\n",
        "#build cascade obj\n",
        "face_cascade = cv2.CascadeClassifier(\"haarcascade_frontalface_alt.xml\")\n",
        "\n",
        "device = 'cuda' if torch.cuda.is_available() else 'cpu'"
      ]
    },
    {
      "cell_type": "code",
      "execution_count": null,
      "id": "b874af3d",
      "metadata": {
        "id": "b874af3d"
      },
      "outputs": [],
      "source": [
        "normalize = transforms.Normalize(mean=[0.485, 0.456, 0.406], std=[0.229, 0.224, 0.225])"
      ]
    },
    {
      "cell_type": "code",
      "execution_count": null,
      "id": "oNvr48KaaYUc",
      "metadata": {
        "id": "oNvr48KaaYUc"
      },
      "outputs": [],
      "source": [
        "#define vgg16 model\n",
        "def get_model():\n",
        "    model = models.vgg19(pretrained = True)\n",
        "    # Freeze parameters so we don't backprop through them\n",
        "    for param in model.parameters():\n",
        "        param.requires_grad = False\n",
        "    model.avgpool = nn.Sequential(\n",
        "        nn.Conv2d(512,512, kernel_size=3),\n",
        "        nn.MaxPool2d(2),\n",
        "        nn.ReLU(),\n",
        "        nn.Flatten()\n",
        "    )\n",
        "    class ageGenderClassifier(nn.Module):\n",
        "        def __init__(self):\n",
        "            super(ageGenderClassifier, self).__init__()\n",
        "            self.intermediate = nn.Sequential(\n",
        "                nn.Linear(2048,512),\n",
        "                nn.ReLU(),\n",
        "                nn.Dropout(0.4),\n",
        "                nn.Linear(512,128),\n",
        "                nn.ReLU(),\n",
        "                nn.Dropout(0.4),\n",
        "                nn.Linear(128,64),\n",
        "                nn.ReLU(),\n",
        "            )\n",
        "            self.age_classifier = nn.Sequential(\n",
        "                nn.Linear(64, 1),\n",
        "                nn.Sigmoid()\n",
        "            )\n",
        "            self.gender_classifier = nn.Sequential(\n",
        "                nn.Linear(64, 1),\n",
        "                nn.Sigmoid()\n",
        "            )\n",
        "        def forward(self, x):\n",
        "            x = self.intermediate(x)\n",
        "            age = self.age_classifier(x)\n",
        "            gender = self.gender_classifier(x)\n",
        "            return gender, age\n",
        "\n",
        "    model.classifier = ageGenderClassifier()\n",
        "\n",
        "    return model.to(device)\n"
      ]
    },
    {
      "cell_type": "code",
      "execution_count": null,
      "id": "wBEkogFggzF3",
      "metadata": {
        "id": "wBEkogFggzF3"
      },
      "outputs": [],
      "source": [
        "def model_prediction(pre_img, model):\n",
        "\n",
        "    face = pre_img.to(device).float()\n",
        "    gender, age = model(face)\n",
        "\n",
        "    pred_gender = gender.to('cpu').detach().numpy()\n",
        "    pred_age = age.to('cpu').detach().numpy()\n",
        "\n",
        "    return pred_gender, pred_age"
      ]
    },
    {
      "cell_type": "code",
      "execution_count": null,
      "id": "gBuI_C5rtxfY",
      "metadata": {
        "id": "gBuI_C5rtxfY"
      },
      "outputs": [],
      "source": [
        "# Import necessary libraries\n",
        "import torch\n",
        "\n",
        "# Load the YOLO model with pre-trained weights (replace with your specific model)\n",
        "model = YOLOv5Model(\"yolov5s.pt\")  # Replace with your model and weight file name\n",
        "model.eval()  # Set model to evaluation mode\n",
        "\n",
        "human_faces = []\n",
        "for detection in results.pandas().xyxy[0]:  # Assuming results are in pandas format\n",
        "    if detection[\"name\"] == \"person\":  # Check for person class\n",
        "        x_min, y_min, x_max, y_max = detection[\"xmin\"], detection[\"ymin\"], detection[\"xmax\"], detection[\"ymax\"]\n",
        "        human_faces.append((x_min, y_min, x_max, y_max))\n",
        "\n",
        "print(\"Human face coordinates:\", human_faces)\n"
      ]
    },
    {
      "cell_type": "code",
      "execution_count": null,
      "id": "dWo2G98sZ9vZ",
      "metadata": {
        "id": "dWo2G98sZ9vZ"
      },
      "outputs": [],
      "source": [
        "\n",
        " define detection function\n",
        "# def detection(gray):\n",
        "\n",
        "#     face = face_cascade.detectMultiScale(gray, 1.3, 5)\n",
        "\n",
        "#     return face\n"
      ]
    },
    {
      "cell_type": "code",
      "execution_count": null,
      "id": "UPFEmV9cfpoR",
      "metadata": {
        "id": "UPFEmV9cfpoR"
      },
      "outputs": [],
      "source": [
        "#preprocess function\n",
        "def preprocess_image(face, frame):\n",
        "    if len(face) > 0: # Check if any faces were detected\n",
        "        for x, y, w, h in face:\n",
        "            frame = np.array(frame)\n",
        "            crop_frame = frame[y:y+h, x:x+w]\n",
        "\n",
        "            crop_frame = cv2.resize(crop_frame, (224, 224))\n",
        "            crop_frame = torch.tensor(crop_frame).permute(2,0,1)\n",
        "            crop_frame = normalize(crop_frame/255.)\n",
        "\n",
        "            return crop_frame[None]\n",
        "    else:\n",
        "        return None # Explicitly return None if no faces are detected"
      ]
    },
    {
      "cell_type": "code",
      "execution_count": null,
      "id": "FoHIh7R-eGlo",
      "metadata": {
        "colab": {
          "base_uri": "https://localhost:8080/"
        },
        "id": "FoHIh7R-eGlo",
        "outputId": "14761a51-de8a-4689-e027-ac566b4e43fc",
        "scrolled": true
      },
      "outputs": [
        {
          "name": "stderr",
          "output_type": "stream",
          "text": [
            "/usr/local/lib/python3.10/dist-packages/torchvision/models/_utils.py:208: UserWarning: The parameter 'pretrained' is deprecated since 0.13 and may be removed in the future, please use 'weights' instead.\n",
            "  warnings.warn(\n",
            "/usr/local/lib/python3.10/dist-packages/torchvision/models/_utils.py:223: UserWarning: Arguments other than a weight enum or `None` for 'weights' are deprecated since 0.13 and may be removed in the future. The current behavior is equivalent to passing `weights=VGG19_Weights.IMAGENET1K_V1`. You can also use `weights=VGG19_Weights.DEFAULT` to get the most up-to-date weights.\n",
            "  warnings.warn(msg)\n"
          ]
        }
      ],
      "source": [
        "model= get_model()\n",
        "# model.load_state_dict(torch.load(\"vgg19\", map_location=torch.device('cpu')))"
      ]
    },
    {
      "cell_type": "code",
      "execution_count": null,
      "id": "JLoZmohahqTl",
      "metadata": {
        "colab": {
          "base_uri": "https://localhost:8080/"
        },
        "id": "JLoZmohahqTl",
        "outputId": "0c54c288-955f-4e1c-d0e3-a93291fc274e"
      },
      "outputs": [
        {
          "name": "stdout",
          "output_type": "stream",
          "text": [
            "True\n"
          ]
        }
      ],
      "source": [
        "cap = cv2.VideoCapture('/content/Faces.mp4')\n",
        "\n",
        "print(cap.isOpened())"
      ]
    },
    {
      "cell_type": "code",
      "execution_count": null,
      "id": "6uVwxOSmZ9yr",
      "metadata": {
        "id": "6uVwxOSmZ9yr"
      },
      "outputs": [],
      "source": [
        "#Capture video from webcam\n",
        "fps = int(cap.get(cv2.CAP_PROP_FPS))\n",
        "width = int(cap.get(cv2.CAP_PROP_FRAME_WIDTH))\n",
        "height = int(cap.get(cv2.CAP_PROP_FRAME_HEIGHT))\n",
        "frame_size = (width, height)\n",
        "fourcc = cv2.VideoWriter_fourcc(*'mp4v')\n",
        "\n",
        "# Initialize video writer.\n",
        "video_output = cv2.VideoWriter('output.mp4', fourcc, fps, frame_size)\n",
        "\n",
        "while cap.isOpened():\n",
        "\n",
        "    _, frame = cap.read()\n",
        "    gray = cv2.cvtColor(frame, cv2.COLOR_BGR2GRAY)\n",
        "\n",
        "    detect_face = detection(gray)\n",
        "\n",
        "    pre_img = preprocess_image(detect_face, frame)\n",
        "    gender, age = model_prediction(pre_img, model)\n",
        "\n",
        "    gender = np.where(gender[0][0]<0.5,'Male','Female')\n",
        "    age = int(age[0][0]*116)\n",
        "    for x, y, w, h in detect_face:\n",
        "        cv2.rectangle(frame, (x,y), (x+w, y+h), (100, 50, 200), 3)\n",
        "\n",
        "        cv2.putText(frame, f'gender:{gender}, age: {age}', (x, w+h), cv2.FONT_HERSHEY_COMPLEX_SMALL, 1, (255, 255, 255), 1, cv2.LINE_AA)\n",
        "\n",
        "\n",
        "    video_output.write(frame)\n",
        "\n",
        "cap.release()\n",
        "video_output.release()\n"
      ]
    }
  ],
  "metadata": {
    "accelerator": "GPU",
    "colab": {
      "gpuType": "T4",
      "provenance": []
    },
    "kernelspec": {
      "display_name": "Python 3 (ipykernel)",
      "language": "python",
      "name": "python3"
    },
    "language_info": {
      "codemirror_mode": {
        "name": "ipython",
        "version": 3
      },
      "file_extension": ".py",
      "mimetype": "text/x-python",
      "name": "python",
      "nbconvert_exporter": "python",
      "pygments_lexer": "ipython3",
      "version": "3.9.13"
    }
  },
  "nbformat": 4,
  "nbformat_minor": 5
}
