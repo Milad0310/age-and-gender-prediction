{
  "cells": [
    {
      "cell_type": "code",
      "execution_count": 1,
      "id": "GKgTM9uWZ9sX",
      "metadata": {
        "id": "GKgTM9uWZ9sX"
      },
      "outputs": [],
      "source": [
        "#import library\n",
        "import cv2\n",
        "from torchvision import transforms, models, datasets\n",
        "import torch.nn as nn\n",
        "import torch\n",
        "import numpy as np\n",
        "import matplotlib.pyplot as plt\n",
        "device = 'cuda' if torch.cuda.is_available() else 'cpu'"
      ]
    },
    {
      "cell_type": "code",
      "execution_count": 2,
      "id": "b874af3d",
      "metadata": {
        "id": "b874af3d"
      },
      "outputs": [],
      "source": [
        "normalize = transforms.Normalize(mean=[0.485, 0.456, 0.406], std=[0.229, 0.224, 0.225])"
      ]
    },
    {
      "cell_type": "code",
      "execution_count": 3,
      "id": "oNvr48KaaYUc",
      "metadata": {
        "id": "oNvr48KaaYUc"
      },
      "outputs": [],
      "source": [
        "#define vgg16 model\n",
        "def get_model():\n",
        "    model = models.vgg19(pretrained = True)\n",
        "    # Freeze parameters so we don't backprop through them\n",
        "    for param in model.parameters():\n",
        "        param.requires_grad = False\n",
        "    model.avgpool = nn.Sequential(\n",
        "        nn.Conv2d(512,512, kernel_size=3),\n",
        "        nn.MaxPool2d(2),\n",
        "        nn.ReLU(),\n",
        "        nn.Flatten()\n",
        "    )\n",
        "    class ageGenderClassifier(nn.Module):\n",
        "        def __init__(self):\n",
        "            super(ageGenderClassifier, self).__init__()\n",
        "            self.intermediate = nn.Sequential(\n",
        "                nn.Linear(2048,512),\n",
        "                nn.ReLU(),\n",
        "                nn.Dropout(0.4),\n",
        "                nn.Linear(512,128),\n",
        "                nn.ReLU(),\n",
        "                nn.Dropout(0.4),\n",
        "                nn.Linear(128,64),\n",
        "                nn.ReLU(),\n",
        "            )\n",
        "            self.age_classifier = nn.Sequential(\n",
        "                nn.Linear(64, 1),\n",
        "                nn.Sigmoid()\n",
        "            )\n",
        "            self.gender_classifier = nn.Sequential(\n",
        "                nn.Linear(64, 1),\n",
        "                nn.Sigmoid()\n",
        "            )\n",
        "        def forward(self, x):\n",
        "            x = self.intermediate(x)\n",
        "            age = self.age_classifier(x)\n",
        "            gender = self.gender_classifier(x)\n",
        "            return gender, age\n",
        "\n",
        "    model.classifier = ageGenderClassifier()\n",
        "\n",
        "    return model.to(device)\n"
      ]
    },
    {
      "cell_type": "code",
      "execution_count": 4,
      "id": "wBEkogFggzF3",
      "metadata": {
        "id": "wBEkogFggzF3"
      },
      "outputs": [],
      "source": [
        "def model_prediction(pre_img, model):\n",
        "\n",
        "    face = pre_img.to(device).float()\n",
        "    gender, age = model(face)\n",
        "\n",
        "    pred_gender = gender.to('cpu').detach().numpy()\n",
        "    pred_age = age.to('cpu').detach().numpy()\n",
        "\n",
        "    return pred_gender, pred_age"
      ]
    },
    {
      "cell_type": "code",
      "execution_count": 5,
      "id": "ypA87iT79lSN",
      "metadata": {
        "colab": {
          "base_uri": "https://localhost:8080/"
        },
        "id": "ypA87iT79lSN",
        "outputId": "1e20e98a-46a3-4166-fa48-63702b355139"
      },
      "outputs": [
        {
          "output_type": "stream",
          "name": "stdout",
          "text": [
            "Mounted at /content/drive/MyDrive/vgg19\n"
          ]
        }
      ],
      "source": [
        "from google.colab import drive\n",
        "!mkdir -p /content/drive/MyDrive/vgg19 # Create the directory if it doesn't exist\n",
        "drive.mount('/content/drive/MyDrive/vgg19') # Remove the space in the path"
      ]
    },
    {
      "cell_type": "code",
      "execution_count": 6,
      "id": "-d0AYGLH-3ys",
      "metadata": {
        "colab": {
          "base_uri": "https://localhost:8080/"
        },
        "id": "-d0AYGLH-3ys",
        "outputId": "0ccef245-4161-4ee4-ad9c-1362e101d0b7"
      },
      "outputs": [
        {
          "output_type": "stream",
          "name": "stderr",
          "text": [
            "/usr/local/lib/python3.10/dist-packages/torchvision/models/_utils.py:208: UserWarning: The parameter 'pretrained' is deprecated since 0.13 and may be removed in the future, please use 'weights' instead.\n",
            "  warnings.warn(\n",
            "/usr/local/lib/python3.10/dist-packages/torchvision/models/_utils.py:223: UserWarning: Arguments other than a weight enum or `None` for 'weights' are deprecated since 0.13 and may be removed in the future. The current behavior is equivalent to passing `weights=VGG19_Weights.IMAGENET1K_V1`. You can also use `weights=VGG19_Weights.DEFAULT` to get the most up-to-date weights.\n",
            "  warnings.warn(msg)\n",
            "Downloading: \"https://download.pytorch.org/models/vgg19-dcbb9e9d.pth\" to /root/.cache/torch/hub/checkpoints/vgg19-dcbb9e9d.pth\n",
            "100%|██████████| 548M/548M [00:02<00:00, 217MB/s]\n"
          ]
        },
        {
          "output_type": "execute_result",
          "data": {
            "text/plain": [
              "VGG(\n",
              "  (features): Sequential(\n",
              "    (0): Conv2d(3, 64, kernel_size=(3, 3), stride=(1, 1), padding=(1, 1))\n",
              "    (1): ReLU(inplace=True)\n",
              "    (2): Conv2d(64, 64, kernel_size=(3, 3), stride=(1, 1), padding=(1, 1))\n",
              "    (3): ReLU(inplace=True)\n",
              "    (4): MaxPool2d(kernel_size=2, stride=2, padding=0, dilation=1, ceil_mode=False)\n",
              "    (5): Conv2d(64, 128, kernel_size=(3, 3), stride=(1, 1), padding=(1, 1))\n",
              "    (6): ReLU(inplace=True)\n",
              "    (7): Conv2d(128, 128, kernel_size=(3, 3), stride=(1, 1), padding=(1, 1))\n",
              "    (8): ReLU(inplace=True)\n",
              "    (9): MaxPool2d(kernel_size=2, stride=2, padding=0, dilation=1, ceil_mode=False)\n",
              "    (10): Conv2d(128, 256, kernel_size=(3, 3), stride=(1, 1), padding=(1, 1))\n",
              "    (11): ReLU(inplace=True)\n",
              "    (12): Conv2d(256, 256, kernel_size=(3, 3), stride=(1, 1), padding=(1, 1))\n",
              "    (13): ReLU(inplace=True)\n",
              "    (14): Conv2d(256, 256, kernel_size=(3, 3), stride=(1, 1), padding=(1, 1))\n",
              "    (15): ReLU(inplace=True)\n",
              "    (16): Conv2d(256, 256, kernel_size=(3, 3), stride=(1, 1), padding=(1, 1))\n",
              "    (17): ReLU(inplace=True)\n",
              "    (18): MaxPool2d(kernel_size=2, stride=2, padding=0, dilation=1, ceil_mode=False)\n",
              "    (19): Conv2d(256, 512, kernel_size=(3, 3), stride=(1, 1), padding=(1, 1))\n",
              "    (20): ReLU(inplace=True)\n",
              "    (21): Conv2d(512, 512, kernel_size=(3, 3), stride=(1, 1), padding=(1, 1))\n",
              "    (22): ReLU(inplace=True)\n",
              "    (23): Conv2d(512, 512, kernel_size=(3, 3), stride=(1, 1), padding=(1, 1))\n",
              "    (24): ReLU(inplace=True)\n",
              "    (25): Conv2d(512, 512, kernel_size=(3, 3), stride=(1, 1), padding=(1, 1))\n",
              "    (26): ReLU(inplace=True)\n",
              "    (27): MaxPool2d(kernel_size=2, stride=2, padding=0, dilation=1, ceil_mode=False)\n",
              "    (28): Conv2d(512, 512, kernel_size=(3, 3), stride=(1, 1), padding=(1, 1))\n",
              "    (29): ReLU(inplace=True)\n",
              "    (30): Conv2d(512, 512, kernel_size=(3, 3), stride=(1, 1), padding=(1, 1))\n",
              "    (31): ReLU(inplace=True)\n",
              "    (32): Conv2d(512, 512, kernel_size=(3, 3), stride=(1, 1), padding=(1, 1))\n",
              "    (33): ReLU(inplace=True)\n",
              "    (34): Conv2d(512, 512, kernel_size=(3, 3), stride=(1, 1), padding=(1, 1))\n",
              "    (35): ReLU(inplace=True)\n",
              "    (36): MaxPool2d(kernel_size=2, stride=2, padding=0, dilation=1, ceil_mode=False)\n",
              "  )\n",
              "  (avgpool): Sequential(\n",
              "    (0): Conv2d(512, 512, kernel_size=(3, 3), stride=(1, 1))\n",
              "    (1): MaxPool2d(kernel_size=2, stride=2, padding=0, dilation=1, ceil_mode=False)\n",
              "    (2): ReLU()\n",
              "    (3): Flatten(start_dim=1, end_dim=-1)\n",
              "  )\n",
              "  (classifier): ageGenderClassifier(\n",
              "    (intermediate): Sequential(\n",
              "      (0): Linear(in_features=2048, out_features=512, bias=True)\n",
              "      (1): ReLU()\n",
              "      (2): Dropout(p=0.4, inplace=False)\n",
              "      (3): Linear(in_features=512, out_features=128, bias=True)\n",
              "      (4): ReLU()\n",
              "      (5): Dropout(p=0.4, inplace=False)\n",
              "      (6): Linear(in_features=128, out_features=64, bias=True)\n",
              "      (7): ReLU()\n",
              "    )\n",
              "    (age_classifier): Sequential(\n",
              "      (0): Linear(in_features=64, out_features=1, bias=True)\n",
              "      (1): Sigmoid()\n",
              "    )\n",
              "    (gender_classifier): Sequential(\n",
              "      (0): Linear(in_features=64, out_features=1, bias=True)\n",
              "      (1): Sigmoid()\n",
              "    )\n",
              "  )\n",
              ")"
            ]
          },
          "metadata": {},
          "execution_count": 6
        }
      ],
      "source": [
        "device = torch.device('cpu')  # Use the GPU\n",
        "\n",
        "pretrained_weights = torch.load('/content/drive/MyDrive/vgg19/MyDrive/vgg19', map_location=device)\n",
        "model = get_model()\n",
        "model.load_state_dict(pretrained_weights, strict = False)\n",
        "\n",
        "model.eval()"
      ]
    },
    {
      "cell_type": "code",
      "execution_count": 7,
      "id": "mt5FLuBEGpv5",
      "metadata": {
        "id": "mt5FLuBEGpv5"
      },
      "outputs": [],
      "source": [
        "import torch\n",
        "\n",
        "def detection(gray):\n",
        "\n",
        "    model = torch.hub.load('ultralytics/yolov5', 'yolov5s', pretrained=True)\n",
        "    # model = torch.hub.load('ultralytics/yolov5', model_name, source=model_url)\n",
        "    result = model(gray)\n",
        "\n",
        "    face = result.pandas().xyxy[0]\n",
        "    return face"
      ]
    },
    {
      "cell_type": "code",
      "execution_count": 16,
      "id": "UPFEmV9cfpoR",
      "metadata": {
        "id": "UPFEmV9cfpoR"
      },
      "outputs": [],
      "source": [
        "def preprocess_image(face, frame):\n",
        "    # Iterate over the rows of the DataFrame and extract numerical values\n",
        "    for index, row in face.iterrows():\n",
        "        frame = np.array(frame)\n",
        "\n",
        "        x1, y1, x2, y2 = int(row['xmin']), int(row['ymin']), int(row['xmax']), int(row['ymax'])\n",
        "        x1, y1, x2, y2 = int(x1+(1/3*x1)), int(y1+(1/3*y1)), int(x2-(1/5*x2)), int(y2-(1/5*y2))\n",
        "\n",
        "        crop_frame = frame[y1:y2, x1:x2]\n",
        "        crop_frame = cv2.resize(crop_frame, (224, 224))\n",
        "\n",
        "        crop_frame = torch.tensor(crop_frame).permute(2,0,1)\n",
        "        crop_frame = normalize(crop_frame/255.)\n",
        "\n",
        "        return crop_frame[None]"
      ]
    },
    {
      "cell_type": "code",
      "execution_count": 19,
      "id": "gkkxrRS1Ijwv",
      "metadata": {
        "colab": {
          "base_uri": "https://localhost:8080/"
        },
        "id": "gkkxrRS1Ijwv",
        "outputId": "112268ec-3399-4f4e-f2f2-f2437c2f1c24"
      },
      "outputs": [
        {
          "output_type": "stream",
          "name": "stdout",
          "text": [
            "True\n"
          ]
        }
      ],
      "source": [
        "cap = cv2.VideoCapture('/content/face3.mp4')\n",
        "\n",
        "print(cap.isOpened())"
      ]
    },
    {
      "cell_type": "code",
      "execution_count": null,
      "id": "6uVwxOSmZ9yr",
      "metadata": {
        "id": "6uVwxOSmZ9yr"
      },
      "outputs": [],
      "source": [
        "#Capture video from webcam\n",
        "fps = int(cap.get(cv2.CAP_PROP_FPS))\n",
        "width = int(cap.get(cv2.CAP_PROP_FRAME_WIDTH))\n",
        "height = int(cap.get(cv2.CAP_PROP_FRAME_HEIGHT))\n",
        "frame_size = (width, height)\n",
        "fourcc = cv2.VideoWriter_fourcc(*'mp4v')\n",
        "\n",
        "# Initialize video writer.\n",
        "video_output = cv2.VideoWriter('output.mp4', fourcc, fps, frame_size)\n",
        "\n",
        "\n",
        "age_list = []\n",
        "while cap.isOpened():\n",
        "\n",
        "    success, frame = cap.read()\n",
        "\n",
        "    if not success:\n",
        "        print(\"Null.Frames\")\n",
        "        break\n",
        "\n",
        "    gray = cv2.cvtColor(frame, cv2.COLOR_BGR2GRAY)\n",
        "\n",
        "    detect_face = detection(gray)\n",
        "\n",
        "    pre_img = preprocess_image(detect_face, frame)\n",
        "    gender, age = model_prediction(pre_img, model)\n",
        "\n",
        "    gender = np.where(gender[0][0]<0.5,'Male','Female')\n",
        "    age = int(age[0][0]*116)\n",
        "    age_list.append(age)\n",
        "    print(age)\n",
        "\n",
        "\n",
        "    for _, row in detect_face.iterrows():\n",
        "        x1, y1, x2, y2 = int(row['xmin']), int(row['ymin']), int(row['xmax']), int(row['ymax'])\n",
        "\n",
        "        x1, y1, x2, y2 = int(x1+(1/4*x1)), int(y1+(1/4*y1)), int(x2-(1/5*x2)), int(y2-(1/5*y2))\n",
        "        cv2.rectangle(frame, (x1,y1), (x2, y2), (100, 50, 200), 3)\n",
        "\n",
        "        cv2.putText(frame, f'Gender: {gender}, Age: {max(age_list)}', (x1, y2), cv2.FONT_HERSHEY_COMPLEX_SMALL, 0.5, (255, 255, 255), 1, cv2.LINE_AA)\n",
        "    #    video_output.write(image)\n",
        "\n",
        "    video_output.write(frame)\n",
        "\n",
        "cap.release()\n",
        "video_output.release()"
      ]
    }
  ],
  "metadata": {
    "accelerator": "TPU",
    "colab": {
      "gpuType": "V28",
      "provenance": []
    },
    "kernelspec": {
      "display_name": "Python 3",
      "name": "python3"
    },
    "language_info": {
      "codemirror_mode": {
        "name": "ipython",
        "version": 3
      },
      "file_extension": ".py",
      "mimetype": "text/x-python",
      "name": "python",
      "nbconvert_exporter": "python",
      "pygments_lexer": "ipython3",
      "version": "3.9.13"
    }
  },
  "nbformat": 4,
  "nbformat_minor": 5
}