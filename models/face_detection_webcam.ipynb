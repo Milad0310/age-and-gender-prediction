{
  "cells": [
    {
      "cell_type": "code",
      "execution_count": null,
      "id": "GKgTM9uWZ9sX",
      "metadata": {
        "id": "GKgTM9uWZ9sX"
      },
      "outputs": [],
      "source": [
        "#import library\n",
        "import cv2\n",
        "from torchvision import transforms, models, datasets\n",
        "import torch.nn as nn\n",
        "import torch\n",
        "import numpy as np\n",
        "import matplotlib.pyplot as plt\n",
        "#build cascade obj\n",
        "face_cascade = cv2.CascadeClassifier(\"haarcascade_frontalface_alt.xml\")\n",
        "\n",
        "device = 'cuda' if torch.cuda.is_available() else 'cpu'"
      ]
    },
    {
      "cell_type": "code",
      "execution_count": null,
      "id": "b874af3d",
      "metadata": {
        "id": "b874af3d"
      },
      "outputs": [],
      "source": [
        "normalize = transforms.Normalize(mean=[0.485, 0.456, 0.406], std=[0.229, 0.224, 0.225])"
      ]
    },
    {
      "cell_type": "code",
      "execution_count": null,
      "id": "oNvr48KaaYUc",
      "metadata": {
        "id": "oNvr48KaaYUc"
      },
      "outputs": [],
      "source": [
        "#define vgg16 model\n",
        "def get_model():\n",
        "    model = models.vgg19(pretrained = True)\n",
        "    # Freeze parameters so we don't backprop through them\n",
        "    for param in model.parameters():\n",
        "        param.requires_grad = False\n",
        "    model.avgpool = nn.Sequential(\n",
        "        nn.Conv2d(512,512, kernel_size=3),\n",
        "        nn.MaxPool2d(2),\n",
        "        nn.ReLU(),\n",
        "        nn.Flatten()\n",
        "    )\n",
        "    class ageGenderClassifier(nn.Module):\n",
        "        def __init__(self):\n",
        "            super(ageGenderClassifier, self).__init__()\n",
        "            self.intermediate = nn.Sequential(\n",
        "                nn.Linear(2048,512),\n",
        "                nn.ReLU(),\n",
        "                nn.Dropout(0.4),\n",
        "                nn.Linear(512,128),\n",
        "                nn.ReLU(),\n",
        "                nn.Dropout(0.4),\n",
        "                nn.Linear(128,64),\n",
        "                nn.ReLU(),\n",
        "            )\n",
        "            self.age_classifier = nn.Sequential(\n",
        "                nn.Linear(64, 1),\n",
        "                nn.Sigmoid()\n",
        "            )\n",
        "            self.gender_classifier = nn.Sequential(\n",
        "                nn.Linear(64, 1),\n",
        "                nn.Sigmoid()\n",
        "            )\n",
        "        def forward(self, x):\n",
        "            x = self.intermediate(x)\n",
        "            age = self.age_classifier(x)\n",
        "            gender = self.gender_classifier(x)\n",
        "            return gender, age\n",
        "\n",
        "    model.classifier = ageGenderClassifier()\n",
        "\n",
        "    return model.to(device)\n"
      ]
    },
    {
      "cell_type": "code",
      "execution_count": null,
      "id": "wBEkogFggzF3",
      "metadata": {
        "id": "wBEkogFggzF3"
      },
      "outputs": [],
      "source": [
        "def model_prediction(pre_img, model):\n",
        "\n",
        "    face = pre_img.to(device).float()\n",
        "    gender, age = model(face)\n",
        "\n",
        "    pred_gender = gender.to('cpu').detach().numpy()\n",
        "    pred_age = age.to('cpu').detach().numpy()\n",
        "\n",
        "    return pred_gender, pred_age"
      ]
    },
    {
      "cell_type": "code",
      "source": [
        "import torch\n",
        "\n",
        "def detection(gray):\n",
        "\n",
        "    model = torch.hub.load('ultralytics/yolov5', 'yolov5s', pretrained=True)\n",
        "    # model = torch.hub.load('ultralytics/yolov5', model_name, source=model_url)\n",
        "    result = model(gray)\n",
        "\n",
        "    face = result.pandas().xyxy[0]\n",
        "    return face"
      ],
      "metadata": {
        "id": "mt5FLuBEGpv5"
      },
      "id": "mt5FLuBEGpv5",
      "execution_count": null,
      "outputs": []
    },
    {
      "cell_type": "code",
      "execution_count": null,
      "id": "UPFEmV9cfpoR",
      "metadata": {
        "id": "UPFEmV9cfpoR"
      },
      "outputs": [],
      "source": [
        "# def preprocess_image(face, frame):\n",
        "#     # Iterate over the rows of the DataFrame and extract numerical values\n",
        "#     preprocessed_images = []\n",
        "#     for index, row in face.iterrows():\n",
        "#         frame = np.array(frame)\n",
        "#         x1, y1, x2, y2 = int(row['xmin']), int(row['ymin']), int(row['xmax']), int(row['ymax'])\n",
        "#         crop_frame = frame[y1:y2, x1:x2]\n",
        "\n",
        "#         crop_frame = cv2.resize(crop_frame, (224, 224))\n",
        "#         crop_frame = torch.tensor(crop_frame).permute(2,0,1)\n",
        "#         crop_frame = normalize(crop_frame/255.)\n",
        "\n",
        "#         preprocessed_images.append(crop_frame[None])\n",
        "\n",
        "#     # Return a list of preprocessed images or None if no faces detected\n",
        "#         return preprocessed_images if preprocessed_images else None\n",
        "\n",
        "#preprocess function#preprocess function\n",
        "def preprocess_image(face, frame):\n",
        "    # Iterate over the rows of the DataFrame and extract numerical values\n",
        "    for index, row in face.iterrows():\n",
        "        frame = np.array(frame)\n",
        "        x1, y1, x2, y2 = int(row['xmin']), int(row['ymin']), int(row['xmax']), int(row['ymax'])\n",
        "        crop_frame = frame[y1:y2, x1:x2]\n",
        "\n",
        "        crop_frame = cv2.resize(crop_frame, (224, 224))\n",
        "        crop_frame = torch.tensor(crop_frame).permute(2,0,1)\n",
        "        crop_frame = normalize(crop_frame/255.)\n",
        "\n",
        "        return crop_frame[None]\n",
        "# def preprocess_image(face, frame):\n",
        "#     for x1, y1, x2, y2 in face:\n",
        "#         frame = np.array(frame)\n",
        "#         x1, y1, x2, y2 = int(x1), int(y1), int(x2), int(y2)\n",
        "#         crop_frame = frame[y1:y2, x1:x2]\n",
        "\n",
        "#         crop_frame = cv2.resize(crop_frame, (224, 224))\n",
        "#         crop_frame = torch.tensor(crop_frame).permute(2,0,1)\n",
        "#         crop_frame = normalize(crop_frame/255.)\n",
        "\n",
        "#         return crop_frame[None]"
      ]
    },
    {
      "cell_type": "code",
      "source": [
        "cap = cv2.VideoCapture('/content/Faces.mp4')\n",
        "\n",
        "print(cap.isOpened())\n",
        "model = get_model()\n",
        "model.eval()"
      ],
      "metadata": {
        "id": "gkkxrRS1Ijwv"
      },
      "id": "gkkxrRS1Ijwv",
      "execution_count": null,
      "outputs": []
    },
    {
      "cell_type": "code",
      "execution_count": null,
      "id": "6uVwxOSmZ9yr",
      "metadata": {
        "id": "6uVwxOSmZ9yr"
      },
      "outputs": [],
      "source": [
        "#Capture video from webcam\n",
        "fps = int(cap.get(cv2.CAP_PROP_FPS))\n",
        "width = int(cap.get(cv2.CAP_PROP_FRAME_WIDTH))\n",
        "height = int(cap.get(cv2.CAP_PROP_FRAME_HEIGHT))\n",
        "frame_size = (width, height)\n",
        "fourcc = cv2.VideoWriter_fourcc(*'mp4v')\n",
        "\n",
        "# Initialize video writer.\n",
        "video_output = cv2.VideoWriter('output.mp4', fourcc, fps, frame_size)\n",
        "\n",
        "while cap.isOpened():\n",
        "\n",
        "    success, frame = cap.read()\n",
        "\n",
        "    if not success:\n",
        "        print(\"Null.Frames\")\n",
        "        break\n",
        "\n",
        "    gray = cv2.cvtColor(frame, cv2.COLOR_BGR2GRAY)\n",
        "\n",
        "    detect_face = detection(gray)\n",
        "\n",
        "    pre_img = preprocess_image(detect_face, frame)\n",
        "    gender, age = model_prediction(pre_img, model)\n",
        "\n",
        "    gender = np.where(gender[0][0]<0.5,'Male','Female')\n",
        "    age = int(age[0][0]*116)\n",
        "\n",
        "    for _, row in detect_face.iterrows():\n",
        "        x1, y1, x2, y2 = int(row['xmin']), int(row['ymin']), int(row['xmax']), int(row['ymax'])\n",
        "        cv2.rectangle(frame, (x1,y1), (x2, y2), (100, 50, 200), 3)\n",
        "\n",
        "        cv2.putText(frame, f'Gender: {gender}, Age: {age}', (x1, y2), cv2.FONT_HERSHEY_COMPLEX_SMALL, 1, (255, 255, 255), 1, cv2.LINE_AA)\n",
        "\n",
        "    #    video_output.write(image)\n",
        "\n",
        "    video_output.write(frame)\n",
        "\n",
        "cap.release()\n",
        "video_output.release()"
      ]
    }
  ],
  "metadata": {
    "accelerator": "GPU",
    "colab": {
      "gpuType": "T4",
      "provenance": []
    },
    "kernelspec": {
      "display_name": "Python 3 (ipykernel)",
      "language": "python",
      "name": "python3"
    },
    "language_info": {
      "codemirror_mode": {
        "name": "ipython",
        "version": 3
      },
      "file_extension": ".py",
      "mimetype": "text/x-python",
      "name": "python",
      "nbconvert_exporter": "python",
      "pygments_lexer": "ipython3",
      "version": "3.9.13"
    }
  },
  "nbformat": 4,
  "nbformat_minor": 5
}